{
 "cells": [
  {
   "cell_type": "markdown",
   "id": "7505dcaa-5b15-4992-a5af-ee38c4123301",
   "metadata": {},
   "source": [
    "# 1️⃣ Library imports & read excel data"
   ]
  },
  {
   "cell_type": "code",
   "execution_count": 6,
   "id": "8bd80748-c6c8-40b4-bfec-ec36b3e3052b",
   "metadata": {},
   "outputs": [],
   "source": [
    "import pandas as pd\n",
    "import numpy as np\n",
    "import seaborn as sns\n",
    "import matplotlib.pyplot as plt\n",
    "%matplotlib inline\n",
    "import math\n",
    "import warnings\n",
    "warnings.filterwarnings('ignore')\n",
    "from itertools import combinations"
   ]
  },
  {
   "cell_type": "code",
   "execution_count": 7,
   "id": "76b89e3c-3393-4a69-b318-5134bb348c3b",
   "metadata": {},
   "outputs": [],
   "source": [
    "dataFile = pd.read_excel('Horizontal_Format.xlsx')"
   ]
  },
  {
   "cell_type": "markdown",
   "id": "e06e40a8-44b0-4c3c-aa5e-7dd06ebc61d1",
   "metadata": {},
   "source": [
    "### Data Shape"
   ]
  },
  {
   "cell_type": "code",
   "execution_count": 8,
   "id": "71020090-e541-4194-ae18-2357894d7b17",
   "metadata": {},
   "outputs": [
    {
     "data": {
      "text/plain": [
       "(5, 2)"
      ]
     },
     "execution_count": 8,
     "metadata": {},
     "output_type": "execute_result"
    }
   ],
   "source": [
    "dataFile.shape"
   ]
  },
  {
   "cell_type": "code",
   "execution_count": 9,
   "id": "687b604a-d111-485f-b220-ee9e03db34be",
   "metadata": {},
   "outputs": [
    {
     "data": {
      "text/html": [
       "<div>\n",
       "<style scoped>\n",
       "    .dataframe tbody tr th:only-of-type {\n",
       "        vertical-align: middle;\n",
       "    }\n",
       "\n",
       "    .dataframe tbody tr th {\n",
       "        vertical-align: top;\n",
       "    }\n",
       "\n",
       "    .dataframe thead th {\n",
       "        text-align: right;\n",
       "    }\n",
       "</style>\n",
       "<table border=\"1\" class=\"dataframe\">\n",
       "  <thead>\n",
       "    <tr style=\"text-align: right;\">\n",
       "      <th></th>\n",
       "      <th>TiD</th>\n",
       "      <th>items</th>\n",
       "    </tr>\n",
       "  </thead>\n",
       "  <tbody>\n",
       "    <tr>\n",
       "      <th>0</th>\n",
       "      <td>1</td>\n",
       "      <td>M,O,N,K,E,Y</td>\n",
       "    </tr>\n",
       "    <tr>\n",
       "      <th>1</th>\n",
       "      <td>2</td>\n",
       "      <td>D,O,N,K,E,Y</td>\n",
       "    </tr>\n",
       "    <tr>\n",
       "      <th>2</th>\n",
       "      <td>3</td>\n",
       "      <td>M,A,K,E</td>\n",
       "    </tr>\n",
       "    <tr>\n",
       "      <th>3</th>\n",
       "      <td>4</td>\n",
       "      <td>M,U,C,K,Y</td>\n",
       "    </tr>\n",
       "    <tr>\n",
       "      <th>4</th>\n",
       "      <td>5</td>\n",
       "      <td>C,O,O,K,I,E</td>\n",
       "    </tr>\n",
       "  </tbody>\n",
       "</table>\n",
       "</div>"
      ],
      "text/plain": [
       "   TiD        items\n",
       "0    1  M,O,N,K,E,Y\n",
       "1    2  D,O,N,K,E,Y\n",
       "2    3      M,A,K,E\n",
       "3    4    M,U,C,K,Y\n",
       "4    5  C,O,O,K,I,E"
      ]
     },
     "execution_count": 9,
     "metadata": {},
     "output_type": "execute_result"
    }
   ],
   "source": [
    "dataFile.head()"
   ]
  },
  {
   "cell_type": "markdown",
   "id": "05aced7c-a68d-486a-95d9-76f9ef0cbb3a",
   "metadata": {},
   "source": [
    "### Transform Data"
   ]
  },
  {
   "cell_type": "code",
   "execution_count": 10,
   "id": "35edb7a0-ccb5-483f-8c04-d9e7ff723692",
   "metadata": {},
   "outputs": [
    {
     "name": "stdout",
     "output_type": "stream",
     "text": [
      "   item       TIDs\n",
      "0     A          3\n",
      "1     C        4,5\n",
      "2     D          2\n",
      "3     E    1,2,3,5\n",
      "4     I          5\n",
      "5     K  1,2,3,4,5\n",
      "6     M      1,3,4\n",
      "7     N        1,2\n",
      "8     O    1,2,5,5\n",
      "9     U          4\n",
      "10    Y      1,2,4\n"
     ]
    }
   ],
   "source": [
    "df = pd.DataFrame(dataFile)\n",
    "\n",
    "# Splitting the items\n",
    "rows = []\n",
    "\n",
    "for index, row in df.iterrows():\n",
    "    tid = row['TiD']\n",
    "    items = row['items'].split(\",\")  # Split the items into a list\n",
    "    for item in items:\n",
    "        rows.append({'item': item, 'TiD': tid}) # each item appended in a single row, then after that i can form grouping \n",
    "\n",
    "# Group by the item\n",
    "expanded_df = pd.DataFrame(rows)\n",
    "Data = expanded_df.groupby('item')['TiD'].apply(lambda x: \",\".join(map(str, sorted(x)))).reset_index()\n",
    "\n",
    "Data.columns = ['item', 'TIDs']\n",
    "print(Data)"
   ]
  },
  {
   "cell_type": "markdown",
   "id": "64ae9902-936b-451e-afd8-58960977d060",
   "metadata": {},
   "source": [
    "# 2️⃣ Algorithm"
   ]
  },
  {
   "cell_type": "code",
   "execution_count": 11,
   "id": "ef161e57-f483-4f23-b532-a373913cae14",
   "metadata": {},
   "outputs": [
    {
     "name": "stdout",
     "output_type": "stream",
     "text": [
      "Total transactions: 5\n"
     ]
    }
   ],
   "source": [
    "# Total number of unique transactions\n",
    "total_transactions = expanded_df['TiD'].nunique()\n",
    "print(f\"Total transactions: {total_transactions}\")\n"
   ]
  },
  {
   "cell_type": "code",
   "execution_count": 12,
   "id": "0ce7c521-dd9e-4d47-be6d-76531990cabe",
   "metadata": {},
   "outputs": [],
   "source": [
    "def eclat(prefix, items):\n",
    "    \"\"\"\n",
    "    Recursive function for ECLAT algorithm.\n",
    "\n",
    "    Parameters:\n",
    "        prefix (list): The current prefix (partial itemset).\n",
    "        items (list): List of tuples (item, TID set) for the current level.\n",
    "\n",
    "    Returns:\n",
    "        list of tuples: Frequent itemsets and their support counts.\n",
    "    \"\"\"\n",
    "    frequent = []\n",
    "    for i, (item, tids) in enumerate(items):\n",
    "        support = len(tids)\n",
    "        if support >= min_support:\n",
    "            # Generate a new frequent itemset\n",
    "            new_prefix = prefix + [item]\n",
    "            frequent.append((new_prefix, support))\n",
    "\n",
    "            # Generate new candidates by intersecting TID sets\n",
    "            new_items = [(other_item, other_tids & tids)\n",
    "                         for other_item, other_tids in items[i + 1:]]\n",
    "\n",
    "            # Recursive call\n",
    "            frequent.extend(eclat(new_prefix, new_items))\n",
    "    return frequent"
   ]
  },
  {
   "cell_type": "code",
   "execution_count": 13,
   "id": "2d8c860d-813c-45d0-a180-468a1792eb05",
   "metadata": {},
   "outputs": [],
   "source": [
    "# Define the ECLAT function\n",
    "def generate_frequent_itemsets(vertical_db, min_support, total_transactions):\n",
    "    \"\"\"\n",
    "    Generate all frequent itemsets using the ECLAT algorithm.\n",
    "\n",
    "    Parameters:\n",
    "        vertical_db (dict): A dictionary where keys are items and values are sets of transaction IDs (TIDs).\n",
    "        min_support (int): Minimum support threshold.\n",
    "        total_transactions (int): Total number of transactions (optional, for additional metrics like support percentage).\n",
    "\n",
    "    Returns:\n",
    "        dict: A dictionary where keys are itemset sizes (1, 2, ..., K), and values are lists of (itemset, support).\n",
    "    \"\"\"\n",
    "\n",
    "    # Create a dictionary from the DataFrame for efficient processing\n",
    "    vertical_db = {}\n",
    "    for index, row in Data.iterrows():\n",
    "        vertical_db[row['item']] = set(map(int, row['TIDs'].split(',')))\n",
    "\n",
    "    # Sort items lexicographically (optional for consistent output)\n",
    "    sorted_items = sorted(vertical_db.items())\n",
    "\n",
    "    # Get all frequent itemsets\n",
    "    all_itemsets = eclat([], sorted_items)\n",
    "\n",
    "    # Group by size\n",
    "    grouped_itemsets = {}\n",
    "    for itemset, support in all_itemsets:\n",
    "        size = len(itemset)\n",
    "        if size not in grouped_itemsets:\n",
    "            grouped_itemsets[size] = []\n",
    "        grouped_itemsets[size].append((itemset, support))\n",
    "\n",
    "    return grouped_itemsets"
   ]
  },
  {
   "cell_type": "code",
   "execution_count": 14,
   "id": "a30f3725-0b99-412c-9a53-6993d7361559",
   "metadata": {},
   "outputs": [
    {
     "name": "stdin",
     "output_type": "stream",
     "text": [
      "Enter minimum support (fractional or count):  2\n"
     ]
    }
   ],
   "source": [
    "# Input minimum support\n",
    "min_support = float(input(\"Enter minimum support (fractional or count): \"))\n"
   ]
  },
  {
   "cell_type": "code",
   "execution_count": 15,
   "id": "46396a98-f2bb-4af5-81bf-b6c4803be4ee",
   "metadata": {},
   "outputs": [
    {
     "name": "stdout",
     "output_type": "stream",
     "text": [
      "Using minimum support: 2.0\n",
      "\n",
      "Frequent itemsets of size 1 (L1):\n",
      "  Itemset: ['C'], Support: 2\n",
      "  Itemset: ['E'], Support: 4\n",
      "  Itemset: ['K'], Support: 5\n",
      "  Itemset: ['M'], Support: 3\n",
      "  Itemset: ['N'], Support: 2\n",
      "  Itemset: ['O'], Support: 3\n",
      "  Itemset: ['Y'], Support: 3\n",
      "\n",
      "Frequent itemsets of size 2 (L2):\n",
      "  Itemset: ['C', 'K'], Support: 2\n",
      "  Itemset: ['E', 'K'], Support: 4\n",
      "  Itemset: ['E', 'M'], Support: 2\n",
      "  Itemset: ['E', 'N'], Support: 2\n",
      "  Itemset: ['E', 'O'], Support: 3\n",
      "  Itemset: ['E', 'Y'], Support: 2\n",
      "  Itemset: ['K', 'M'], Support: 3\n",
      "  Itemset: ['K', 'N'], Support: 2\n",
      "  Itemset: ['K', 'O'], Support: 3\n",
      "  Itemset: ['K', 'Y'], Support: 3\n",
      "  Itemset: ['M', 'Y'], Support: 2\n",
      "  Itemset: ['N', 'O'], Support: 2\n",
      "  Itemset: ['N', 'Y'], Support: 2\n",
      "  Itemset: ['O', 'Y'], Support: 2\n",
      "\n",
      "Frequent itemsets of size 3 (L3):\n",
      "  Itemset: ['E', 'K', 'M'], Support: 2\n",
      "  Itemset: ['E', 'K', 'N'], Support: 2\n",
      "  Itemset: ['E', 'K', 'O'], Support: 3\n",
      "  Itemset: ['E', 'K', 'Y'], Support: 2\n",
      "  Itemset: ['E', 'N', 'O'], Support: 2\n",
      "  Itemset: ['E', 'N', 'Y'], Support: 2\n",
      "  Itemset: ['E', 'O', 'Y'], Support: 2\n",
      "  Itemset: ['K', 'M', 'Y'], Support: 2\n",
      "  Itemset: ['K', 'N', 'O'], Support: 2\n",
      "  Itemset: ['K', 'N', 'Y'], Support: 2\n",
      "  Itemset: ['K', 'O', 'Y'], Support: 2\n",
      "  Itemset: ['N', 'O', 'Y'], Support: 2\n",
      "\n",
      "Frequent itemsets of size 4 (L4):\n",
      "  Itemset: ['E', 'K', 'N', 'O'], Support: 2\n",
      "  Itemset: ['E', 'K', 'N', 'Y'], Support: 2\n",
      "  Itemset: ['E', 'K', 'O', 'Y'], Support: 2\n",
      "  Itemset: ['E', 'N', 'O', 'Y'], Support: 2\n",
      "  Itemset: ['K', 'N', 'O', 'Y'], Support: 2\n",
      "\n",
      "Frequent itemsets of size 5 (L5):\n",
      "  Itemset: ['E', 'K', 'N', 'O', 'Y'], Support: 2\n"
     ]
    }
   ],
   "source": [
    "if min_support < 1:  # Fractional support provided\n",
    "    min_support = math.ceil(min_support * total_transactions)\n",
    "\n",
    "print(f\"Using minimum support: {min_support}\")\n",
    "\n",
    "# Generate frequent itemsets\n",
    "frequent_itemsets = generate_frequent_itemsets(Data, min_support, total_transactions)\n",
    "\n",
    "# Output the results grouped by size\n",
    "for k, itemsets in sorted(frequent_itemsets.items()):\n",
    "    print(f\"\\nFrequent itemsets of size {k} (L{k}):\")\n",
    "    for itemset, support in itemsets:\n",
    "        print(f\"  Itemset: {itemset}, Support: {support}\")"
   ]
  },
  {
   "cell_type": "markdown",
   "id": "2753c004-ef81-49b5-8b5c-489d5bed8faa",
   "metadata": {},
   "source": [
    "# 3️⃣"
   ]
  },
  {
   "cell_type": "code",
   "execution_count": 16,
   "id": "5d8f5cd1-e2f8-4a84-9cc3-1c1228f16ec7",
   "metadata": {},
   "outputs": [
    {
     "name": "stdin",
     "output_type": "stream",
     "text": [
      "Enter minimum confidence (as a decimal, e.g., 0.6 for 60%):  0.6\n"
     ]
    }
   ],
   "source": [
    "# Minimum confidence threshold\n",
    "min_confidence = float(input(\"Enter minimum confidence (as a decimal, e.g., 0.6 for 60%): \"))"
   ]
  },
  {
   "cell_type": "code",
   "execution_count": 17,
   "id": "18732f4d-980e-4842-ad4a-fe458a832458",
   "metadata": {},
   "outputs": [],
   "source": [
    "# Function to generate association rules and calculate confidence\n",
    "def generate_association_rules(frequent_itemsets):\n",
    "    \"\"\"\n",
    "    Generate and print association rules from frequent itemsets.\n",
    "\n",
    "    Parameters:\n",
    "        frequent_itemsets (dict): Dictionary of frequent itemsets grouped by size.\n",
    "\n",
    "    Returns:\n",
    "        strong_rules (list): List of strong association rules with support and confidence.\n",
    "    \"\"\"\n",
    "    strong_rules = []  # To store strong rules\n",
    "\n",
    "    # Iterate over all sizes of itemsets\n",
    "    for size, itemsets in frequent_itemsets.items():\n",
    "        for itemset, support in itemsets:\n",
    "            # Generate all possible non-empty subsets of the itemset\n",
    "            for i in range(1, len(itemset)):\n",
    "                subsets = list(combinations(itemset, i))  # Generate subsets of length i\n",
    "                for antecedent in subsets:\n",
    "                    consequent = tuple(sorted(set(itemset) - set(antecedent)))  # Consequent is the remaining items\n",
    "                    \n",
    "                    if consequent:\n",
    "                        # Calculate support and confidence\n",
    "                        antecedent_support = get_support(antecedent, frequent_itemsets)\n",
    "                        confidence = support / antecedent_support\n",
    "\n",
    "                        # Check if the rule is strong\n",
    "                        if confidence >= min_confidence:\n",
    "                            strong_rules.append({\n",
    "                                \"rule\": f\"{antecedent} => {consequent}\",\n",
    "                                \"support\": support,\n",
    "                                \"confidence\": confidence\n",
    "                            })\n",
    "    \n",
    "    return strong_rules"
   ]
  },
  {
   "cell_type": "code",
   "execution_count": 18,
   "id": "9d21081f-abfd-47ce-89c1-183493d4b48b",
   "metadata": {},
   "outputs": [],
   "source": [
    "# Helper function to get the support of a specific itemset\n",
    "def get_support(itemset, frequent_itemsets):\n",
    "    \"\"\"\n",
    "    Get the support count of an itemset from the frequent itemsets.\n",
    "\n",
    "    Parameters:\n",
    "        itemset (tuple): The itemset whose support is to be retrieved.\n",
    "        frequent_itemsets (dict): Dictionary of frequent itemsets grouped by size.\n",
    "\n",
    "    Returns:\n",
    "        int: Support count of the itemset.\n",
    "    \"\"\"\n",
    "    itemset_size = len(itemset)\n",
    "    for frequent_item, support in frequent_itemsets[itemset_size]:\n",
    "        if sorted(frequent_item) == sorted(itemset):\n",
    "            return support\n",
    "    return 0"
   ]
  },
  {
   "cell_type": "code",
   "execution_count": 21,
   "id": "fd8fb814-dda7-43d0-89aa-e5516e74d711",
   "metadata": {},
   "outputs": [
    {
     "name": "stdout",
     "output_type": "stream",
     "text": [
      "\n",
      "Strong Association Rules:\n",
      "Rule: ('C',) => ('K',), Support: 2, Confidence: 1.00\n",
      "Rule: ('E',) => ('K',), Support: 4, Confidence: 1.00\n",
      "Rule: ('K',) => ('E',), Support: 4, Confidence: 0.80\n",
      "Rule: ('M',) => ('E',), Support: 2, Confidence: 0.67\n",
      "Rule: ('N',) => ('E',), Support: 2, Confidence: 1.00\n",
      "Rule: ('E',) => ('O',), Support: 3, Confidence: 0.75\n",
      "Rule: ('O',) => ('E',), Support: 3, Confidence: 1.00\n",
      "Rule: ('Y',) => ('E',), Support: 2, Confidence: 0.67\n",
      "Rule: ('K',) => ('M',), Support: 3, Confidence: 0.60\n",
      "Rule: ('M',) => ('K',), Support: 3, Confidence: 1.00\n",
      "Rule: ('N',) => ('K',), Support: 2, Confidence: 1.00\n",
      "Rule: ('K',) => ('O',), Support: 3, Confidence: 0.60\n",
      "Rule: ('O',) => ('K',), Support: 3, Confidence: 1.00\n",
      "Rule: ('K',) => ('Y',), Support: 3, Confidence: 0.60\n",
      "Rule: ('Y',) => ('K',), Support: 3, Confidence: 1.00\n",
      "Rule: ('M',) => ('Y',), Support: 2, Confidence: 0.67\n",
      "Rule: ('Y',) => ('M',), Support: 2, Confidence: 0.67\n",
      "Rule: ('N',) => ('O',), Support: 2, Confidence: 1.00\n",
      "Rule: ('O',) => ('N',), Support: 2, Confidence: 0.67\n",
      "Rule: ('N',) => ('Y',), Support: 2, Confidence: 1.00\n",
      "Rule: ('Y',) => ('N',), Support: 2, Confidence: 0.67\n",
      "Rule: ('O',) => ('Y',), Support: 2, Confidence: 0.67\n",
      "Rule: ('Y',) => ('O',), Support: 2, Confidence: 0.67\n",
      "Rule: ('M',) => ('E', 'K'), Support: 2, Confidence: 0.67\n",
      "Rule: ('E', 'M') => ('K',), Support: 2, Confidence: 1.00\n",
      "Rule: ('K', 'M') => ('E',), Support: 2, Confidence: 0.67\n",
      "Rule: ('N',) => ('E', 'K'), Support: 2, Confidence: 1.00\n",
      "Rule: ('E', 'N') => ('K',), Support: 2, Confidence: 1.00\n",
      "Rule: ('K', 'N') => ('E',), Support: 2, Confidence: 1.00\n",
      "Rule: ('E',) => ('K', 'O'), Support: 3, Confidence: 0.75\n",
      "Rule: ('K',) => ('E', 'O'), Support: 3, Confidence: 0.60\n",
      "Rule: ('O',) => ('E', 'K'), Support: 3, Confidence: 1.00\n",
      "Rule: ('E', 'K') => ('O',), Support: 3, Confidence: 0.75\n",
      "Rule: ('E', 'O') => ('K',), Support: 3, Confidence: 1.00\n",
      "Rule: ('K', 'O') => ('E',), Support: 3, Confidence: 1.00\n",
      "Rule: ('Y',) => ('E', 'K'), Support: 2, Confidence: 0.67\n",
      "Rule: ('E', 'Y') => ('K',), Support: 2, Confidence: 1.00\n",
      "Rule: ('K', 'Y') => ('E',), Support: 2, Confidence: 0.67\n",
      "Rule: ('N',) => ('E', 'O'), Support: 2, Confidence: 1.00\n",
      "Rule: ('O',) => ('E', 'N'), Support: 2, Confidence: 0.67\n",
      "Rule: ('E', 'N') => ('O',), Support: 2, Confidence: 1.00\n",
      "Rule: ('E', 'O') => ('N',), Support: 2, Confidence: 0.67\n",
      "Rule: ('N', 'O') => ('E',), Support: 2, Confidence: 1.00\n",
      "Rule: ('N',) => ('E', 'Y'), Support: 2, Confidence: 1.00\n",
      "Rule: ('Y',) => ('E', 'N'), Support: 2, Confidence: 0.67\n",
      "Rule: ('E', 'N') => ('Y',), Support: 2, Confidence: 1.00\n",
      "Rule: ('E', 'Y') => ('N',), Support: 2, Confidence: 1.00\n",
      "Rule: ('N', 'Y') => ('E',), Support: 2, Confidence: 1.00\n",
      "Rule: ('O',) => ('E', 'Y'), Support: 2, Confidence: 0.67\n",
      "Rule: ('Y',) => ('E', 'O'), Support: 2, Confidence: 0.67\n",
      "Rule: ('E', 'O') => ('Y',), Support: 2, Confidence: 0.67\n",
      "Rule: ('E', 'Y') => ('O',), Support: 2, Confidence: 1.00\n",
      "Rule: ('O', 'Y') => ('E',), Support: 2, Confidence: 1.00\n",
      "Rule: ('M',) => ('K', 'Y'), Support: 2, Confidence: 0.67\n",
      "Rule: ('Y',) => ('K', 'M'), Support: 2, Confidence: 0.67\n",
      "Rule: ('K', 'M') => ('Y',), Support: 2, Confidence: 0.67\n",
      "Rule: ('K', 'Y') => ('M',), Support: 2, Confidence: 0.67\n",
      "Rule: ('M', 'Y') => ('K',), Support: 2, Confidence: 1.00\n",
      "Rule: ('N',) => ('K', 'O'), Support: 2, Confidence: 1.00\n",
      "Rule: ('O',) => ('K', 'N'), Support: 2, Confidence: 0.67\n",
      "Rule: ('K', 'N') => ('O',), Support: 2, Confidence: 1.00\n",
      "Rule: ('K', 'O') => ('N',), Support: 2, Confidence: 0.67\n",
      "Rule: ('N', 'O') => ('K',), Support: 2, Confidence: 1.00\n",
      "Rule: ('N',) => ('K', 'Y'), Support: 2, Confidence: 1.00\n",
      "Rule: ('Y',) => ('K', 'N'), Support: 2, Confidence: 0.67\n",
      "Rule: ('K', 'N') => ('Y',), Support: 2, Confidence: 1.00\n",
      "Rule: ('K', 'Y') => ('N',), Support: 2, Confidence: 0.67\n",
      "Rule: ('N', 'Y') => ('K',), Support: 2, Confidence: 1.00\n",
      "Rule: ('O',) => ('K', 'Y'), Support: 2, Confidence: 0.67\n",
      "Rule: ('Y',) => ('K', 'O'), Support: 2, Confidence: 0.67\n",
      "Rule: ('K', 'O') => ('Y',), Support: 2, Confidence: 0.67\n",
      "Rule: ('K', 'Y') => ('O',), Support: 2, Confidence: 0.67\n",
      "Rule: ('O', 'Y') => ('K',), Support: 2, Confidence: 1.00\n",
      "Rule: ('N',) => ('O', 'Y'), Support: 2, Confidence: 1.00\n",
      "Rule: ('O',) => ('N', 'Y'), Support: 2, Confidence: 0.67\n",
      "Rule: ('Y',) => ('N', 'O'), Support: 2, Confidence: 0.67\n",
      "Rule: ('N', 'O') => ('Y',), Support: 2, Confidence: 1.00\n",
      "Rule: ('N', 'Y') => ('O',), Support: 2, Confidence: 1.00\n",
      "Rule: ('O', 'Y') => ('N',), Support: 2, Confidence: 1.00\n",
      "Rule: ('N',) => ('E', 'K', 'O'), Support: 2, Confidence: 1.00\n",
      "Rule: ('O',) => ('E', 'K', 'N'), Support: 2, Confidence: 0.67\n",
      "Rule: ('E', 'N') => ('K', 'O'), Support: 2, Confidence: 1.00\n",
      "Rule: ('E', 'O') => ('K', 'N'), Support: 2, Confidence: 0.67\n",
      "Rule: ('K', 'N') => ('E', 'O'), Support: 2, Confidence: 1.00\n",
      "Rule: ('K', 'O') => ('E', 'N'), Support: 2, Confidence: 0.67\n",
      "Rule: ('N', 'O') => ('E', 'K'), Support: 2, Confidence: 1.00\n",
      "Rule: ('E', 'K', 'N') => ('O',), Support: 2, Confidence: 1.00\n",
      "Rule: ('E', 'K', 'O') => ('N',), Support: 2, Confidence: 0.67\n",
      "Rule: ('E', 'N', 'O') => ('K',), Support: 2, Confidence: 1.00\n",
      "Rule: ('K', 'N', 'O') => ('E',), Support: 2, Confidence: 1.00\n",
      "Rule: ('N',) => ('E', 'K', 'Y'), Support: 2, Confidence: 1.00\n",
      "Rule: ('Y',) => ('E', 'K', 'N'), Support: 2, Confidence: 0.67\n",
      "Rule: ('E', 'N') => ('K', 'Y'), Support: 2, Confidence: 1.00\n",
      "Rule: ('E', 'Y') => ('K', 'N'), Support: 2, Confidence: 1.00\n",
      "Rule: ('K', 'N') => ('E', 'Y'), Support: 2, Confidence: 1.00\n",
      "Rule: ('K', 'Y') => ('E', 'N'), Support: 2, Confidence: 0.67\n",
      "Rule: ('N', 'Y') => ('E', 'K'), Support: 2, Confidence: 1.00\n",
      "Rule: ('E', 'K', 'N') => ('Y',), Support: 2, Confidence: 1.00\n",
      "Rule: ('E', 'K', 'Y') => ('N',), Support: 2, Confidence: 1.00\n",
      "Rule: ('E', 'N', 'Y') => ('K',), Support: 2, Confidence: 1.00\n",
      "Rule: ('K', 'N', 'Y') => ('E',), Support: 2, Confidence: 1.00\n",
      "Rule: ('O',) => ('E', 'K', 'Y'), Support: 2, Confidence: 0.67\n",
      "Rule: ('Y',) => ('E', 'K', 'O'), Support: 2, Confidence: 0.67\n",
      "Rule: ('E', 'O') => ('K', 'Y'), Support: 2, Confidence: 0.67\n",
      "Rule: ('E', 'Y') => ('K', 'O'), Support: 2, Confidence: 1.00\n",
      "Rule: ('K', 'O') => ('E', 'Y'), Support: 2, Confidence: 0.67\n",
      "Rule: ('K', 'Y') => ('E', 'O'), Support: 2, Confidence: 0.67\n",
      "Rule: ('O', 'Y') => ('E', 'K'), Support: 2, Confidence: 1.00\n",
      "Rule: ('E', 'K', 'O') => ('Y',), Support: 2, Confidence: 0.67\n",
      "Rule: ('E', 'K', 'Y') => ('O',), Support: 2, Confidence: 1.00\n",
      "Rule: ('E', 'O', 'Y') => ('K',), Support: 2, Confidence: 1.00\n",
      "Rule: ('K', 'O', 'Y') => ('E',), Support: 2, Confidence: 1.00\n",
      "Rule: ('N',) => ('E', 'O', 'Y'), Support: 2, Confidence: 1.00\n",
      "Rule: ('O',) => ('E', 'N', 'Y'), Support: 2, Confidence: 0.67\n",
      "Rule: ('Y',) => ('E', 'N', 'O'), Support: 2, Confidence: 0.67\n",
      "Rule: ('E', 'N') => ('O', 'Y'), Support: 2, Confidence: 1.00\n",
      "Rule: ('E', 'O') => ('N', 'Y'), Support: 2, Confidence: 0.67\n",
      "Rule: ('E', 'Y') => ('N', 'O'), Support: 2, Confidence: 1.00\n",
      "Rule: ('N', 'O') => ('E', 'Y'), Support: 2, Confidence: 1.00\n",
      "Rule: ('N', 'Y') => ('E', 'O'), Support: 2, Confidence: 1.00\n",
      "Rule: ('O', 'Y') => ('E', 'N'), Support: 2, Confidence: 1.00\n",
      "Rule: ('E', 'N', 'O') => ('Y',), Support: 2, Confidence: 1.00\n",
      "Rule: ('E', 'N', 'Y') => ('O',), Support: 2, Confidence: 1.00\n",
      "Rule: ('E', 'O', 'Y') => ('N',), Support: 2, Confidence: 1.00\n",
      "Rule: ('N', 'O', 'Y') => ('E',), Support: 2, Confidence: 1.00\n",
      "Rule: ('N',) => ('K', 'O', 'Y'), Support: 2, Confidence: 1.00\n",
      "Rule: ('O',) => ('K', 'N', 'Y'), Support: 2, Confidence: 0.67\n",
      "Rule: ('Y',) => ('K', 'N', 'O'), Support: 2, Confidence: 0.67\n",
      "Rule: ('K', 'N') => ('O', 'Y'), Support: 2, Confidence: 1.00\n",
      "Rule: ('K', 'O') => ('N', 'Y'), Support: 2, Confidence: 0.67\n",
      "Rule: ('K', 'Y') => ('N', 'O'), Support: 2, Confidence: 0.67\n",
      "Rule: ('N', 'O') => ('K', 'Y'), Support: 2, Confidence: 1.00\n",
      "Rule: ('N', 'Y') => ('K', 'O'), Support: 2, Confidence: 1.00\n",
      "Rule: ('O', 'Y') => ('K', 'N'), Support: 2, Confidence: 1.00\n",
      "Rule: ('K', 'N', 'O') => ('Y',), Support: 2, Confidence: 1.00\n",
      "Rule: ('K', 'N', 'Y') => ('O',), Support: 2, Confidence: 1.00\n",
      "Rule: ('K', 'O', 'Y') => ('N',), Support: 2, Confidence: 1.00\n",
      "Rule: ('N', 'O', 'Y') => ('K',), Support: 2, Confidence: 1.00\n",
      "Rule: ('N',) => ('E', 'K', 'O', 'Y'), Support: 2, Confidence: 1.00\n",
      "Rule: ('O',) => ('E', 'K', 'N', 'Y'), Support: 2, Confidence: 0.67\n",
      "Rule: ('Y',) => ('E', 'K', 'N', 'O'), Support: 2, Confidence: 0.67\n",
      "Rule: ('E', 'N') => ('K', 'O', 'Y'), Support: 2, Confidence: 1.00\n",
      "Rule: ('E', 'O') => ('K', 'N', 'Y'), Support: 2, Confidence: 0.67\n",
      "Rule: ('E', 'Y') => ('K', 'N', 'O'), Support: 2, Confidence: 1.00\n",
      "Rule: ('K', 'N') => ('E', 'O', 'Y'), Support: 2, Confidence: 1.00\n",
      "Rule: ('K', 'O') => ('E', 'N', 'Y'), Support: 2, Confidence: 0.67\n",
      "Rule: ('K', 'Y') => ('E', 'N', 'O'), Support: 2, Confidence: 0.67\n",
      "Rule: ('N', 'O') => ('E', 'K', 'Y'), Support: 2, Confidence: 1.00\n",
      "Rule: ('N', 'Y') => ('E', 'K', 'O'), Support: 2, Confidence: 1.00\n",
      "Rule: ('O', 'Y') => ('E', 'K', 'N'), Support: 2, Confidence: 1.00\n",
      "Rule: ('E', 'K', 'N') => ('O', 'Y'), Support: 2, Confidence: 1.00\n",
      "Rule: ('E', 'K', 'O') => ('N', 'Y'), Support: 2, Confidence: 0.67\n",
      "Rule: ('E', 'K', 'Y') => ('N', 'O'), Support: 2, Confidence: 1.00\n",
      "Rule: ('E', 'N', 'O') => ('K', 'Y'), Support: 2, Confidence: 1.00\n",
      "Rule: ('E', 'N', 'Y') => ('K', 'O'), Support: 2, Confidence: 1.00\n",
      "Rule: ('E', 'O', 'Y') => ('K', 'N'), Support: 2, Confidence: 1.00\n",
      "Rule: ('K', 'N', 'O') => ('E', 'Y'), Support: 2, Confidence: 1.00\n",
      "Rule: ('K', 'N', 'Y') => ('E', 'O'), Support: 2, Confidence: 1.00\n",
      "Rule: ('K', 'O', 'Y') => ('E', 'N'), Support: 2, Confidence: 1.00\n",
      "Rule: ('N', 'O', 'Y') => ('E', 'K'), Support: 2, Confidence: 1.00\n",
      "Rule: ('E', 'K', 'N', 'O') => ('Y',), Support: 2, Confidence: 1.00\n",
      "Rule: ('E', 'K', 'N', 'Y') => ('O',), Support: 2, Confidence: 1.00\n",
      "Rule: ('E', 'K', 'O', 'Y') => ('N',), Support: 2, Confidence: 1.00\n",
      "Rule: ('E', 'N', 'O', 'Y') => ('K',), Support: 2, Confidence: 1.00\n",
      "Rule: ('K', 'N', 'O', 'Y') => ('E',), Support: 2, Confidence: 1.00\n"
     ]
    }
   ],
   "source": [
    "# Generate and display strong association rules\n",
    "strong_rules = generate_association_rules(frequent_itemsets)\n",
    "\n",
    "print(\"\\nStrong Association Rules:\")\n",
    "for rule in strong_rules:\n",
    "    print(f\"Rule: {rule['rule']}, Support: {rule['support']}, Confidence: {rule['confidence']:.2f}\")"
   ]
  },
  {
   "cell_type": "code",
   "execution_count": null,
   "id": "7fea51d8-5a41-4ff8-9434-6b218455b324",
   "metadata": {},
   "outputs": [],
   "source": []
  }
 ],
 "metadata": {
  "kernelspec": {
   "display_name": "Python 3 (ipykernel)",
   "language": "python",
   "name": "python3"
  },
  "language_info": {
   "codemirror_mode": {
    "name": "ipython",
    "version": 3
   },
   "file_extension": ".py",
   "mimetype": "text/x-python",
   "name": "python",
   "nbconvert_exporter": "python",
   "pygments_lexer": "ipython3",
   "version": "3.13.0"
  }
 },
 "nbformat": 4,
 "nbformat_minor": 5
}
